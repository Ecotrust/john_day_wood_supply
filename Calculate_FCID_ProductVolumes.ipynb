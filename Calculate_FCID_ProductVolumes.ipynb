{
 "cells": [
  {
   "cell_type": "code",
   "execution_count": 1,
   "metadata": {
    "collapsed": true
   },
   "outputs": [],
   "source": [
    "# This script reads in a lookup table that has the volume (several different metrics) of each \n",
    "# Forest Class ID (FCID) in the GNN dataset saved by species and 1\" diameter classes"
   ]
  },
  {
   "cell_type": "code",
   "execution_count": 2,
   "metadata": {
    "collapsed": true
   },
   "outputs": [],
   "source": [
    "# load the packages\n",
    "import pandas as pd\n",
    "import numpy as np\n",
    "%matplotlib inline\n",
    "from matplotlib import pyplot as plt\n",
    "import math\n",
    "from ARBCARVolumeEquations import *"
   ]
  },
  {
   "cell_type": "code",
   "execution_count": 3,
   "metadata": {
    "collapsed": false
   },
   "outputs": [
    {
     "name": "stdout",
     "output_type": "stream",
     "text": [
      "2651138 live trees loaded.\n",
      "53704 FCIDs loaded.\n"
     ]
    }
   ],
   "source": [
    "workdir = 'C:\\Users\\ddiaz\\Desktop'\n",
    "CSV = 'GNN_TREE_LIVE_vols_ac.csv'\n",
    "gnn_tree_live_vols_ac = pd.read_csv(workdir+'\\\\'+CSV, sep = ',', quotechar = '\"', index_col = 'FCID')\n",
    "print(str(len(gnn_tree_live_vols_ac)) + \" live trees loaded.\")\n",
    "print(str(len(pd.unique(gnn_tree_live_vols_ac.index))) + \" FCIDs loaded.\")"
   ]
  },
  {
   "cell_type": "code",
   "execution_count": 16,
   "metadata": {
    "collapsed": true
   },
   "outputs": [],
   "source": [
    "def getproducts(species_list, minDBH, maxDBH, region, volume_metric):\n",
    "    \"\"\"returns a dataframe with the volume of wood per acre in each GNN FCID within the species and diameter range provided\n",
    "    species_list: a list of SPP_SYMBOLS (NRCS PLANTS Symbols)\n",
    "    minDBH: minimum diameter threshold (in inches) for forest product type\n",
    "    maxDBH: maximum diameter threshold (in inches) for forest product type\n",
    "    region: 'EOR', 'WOR', 'EWA', 'WWA', or 'CA'\n",
    "    volume_metric: 'CVT', 'CVTS', 'CV4', 'CV_sawlog', or 'BF'.\n",
    "    \"\"\"\n",
    "    # check to confirm metric and region are appropriate\n",
    "    if region not in ['WOR', 'EOR', 'WWA', 'EWA', 'CA']:\n",
    "        raise TypeError(\"region must be 'WOR', 'EOR', 'WWA', 'EWA', or 'CA'.\")\n",
    "    if volume_metric not in ['CVTS', 'CVT', 'CV4', 'CV_sawlog', 'BF', 'AG_bio', 'CV4_bio']:\n",
    "        raise TypeError(\"volume_metric must be 'CVTS', 'CVT', 'CV4', 'CV_sawlog', or 'BF'.\")\n",
    "    \n",
    "    if volume_metric in ['CVTS', 'CVT', 'CV4', 'CV_sawlog']:\n",
    "        search_metric = region + \"_\" + volume_metric + \"_ft3_ac\"\n",
    "    elif volume_metric == 'BF':\n",
    "        search_metric = region + \"_\" + volume_metric + \"_ac\"\n",
    "    elif volume_metric in ['AG_bio', 'CV4_bio']:\n",
    "        search_metric = volume_metric + \"_tons_ac\"\n",
    "     \n",
    "    return pd.DataFrame(gnn_tree_live_vols_ac[['SPP_SYMBOL', 'DBH_CM', search_metric]].where((gnn_tree_live_vols_ac['SPP_SYMBOL'].isin(species_list)) & (gnn_tree_live_vols_ac['DBH_CM']/2.54 >= minDBH) & (gnn_tree_live_vols_ac['DBH_CM']/2.54 < maxDBH))[search_metric].groupby(level=0).sum().fillna(0))"
   ]
  },
  {
   "cell_type": "code",
   "execution_count": 25,
   "metadata": {
    "collapsed": false
   },
   "outputs": [
    {
     "data": {
      "text/plain": [
       "['JUGR7', 'JUOC', 'JUOS', 'JUCA7', 'JUSC2']"
      ]
     },
     "execution_count": 25,
     "metadata": {},
     "output_type": "execute_result"
    }
   ],
   "source": [
    "# find all species symbols that have juniper in the common name\n",
    "juniperlist = []\n",
    "for symbol in VolumeEq_Dict.keys():\n",
    "    if 'juniper' in (VolumeEq_Dict[symbol]['common_name']):\n",
    "        juniperlist.append(symbol)\n",
    "juniperlist"
   ]
  },
  {
   "cell_type": "code",
   "execution_count": 17,
   "metadata": {
    "collapsed": false
   },
   "outputs": [
    {
     "name": "stdout",
     "output_type": "stream",
     "text": [
      "['PIAT', 'PICOL', 'PICOM', 'PICO', 'PIMO3', 'PICO3', 'PIPOS', 'PIAR', 'ABMA', 'PIAL', 'PIJE', 'PISI', 'PIENM2', 'ABCO', 'ABLAL', 'PIPOP', 'ABAM', 'ABGRC', 'PIPOW2', 'PISY', 'PIWA', 'ABGR', 'PIEN', 'PIRA2', 'PIPOB2', 'PIPOB3', 'PILA', 'ABMAM', 'ABMAS', 'ABPR', 'PIRA', 'PISA2', 'PIBR', 'PIBA', 'PIBAB', 'PIBAA', 'ABPRSH', 'PIPO', 'PIFL2', 'ABLO', 'ABLA', 'PIENE', 'PIMU', 'LALY', 'ABBR', 'PSMA', 'PSME']\n",
      "['Knobcone pine', 'Lodgepole pine', 'Sierra lodgepole pine', 'Lodgepole pine', 'Western white pine', 'Coulter pine', 'Ponderosa pine', 'Bristlecone pine', 'Red fir', 'Whitebark pine', 'Jeffrey pine', 'Sitka spruce', 'Engelmann spruce', 'White fir', 'Subalpine fir', 'Ponderosa pine', 'Pacific silver fir', 'White and Grand fir', 'Washoe pine', 'Scots pine', 'Washoe pine', 'Grand fir', 'Engelmann spruce', 'Monterey pine', 'Ponderosa pine', 'Ponderosa pine', 'Sugar pine', 'California red fir', 'Shasta red fir', 'Noble fir', 'Monterey pine', 'Gray pine', 'Brewer spruce', 'Foxtail pine', 'Foxtail pine', 'Foxtail pine', 'Noble and Red firs', 'Ponderosa pine', 'Limber pine', 'Sierra white fir', 'Subalpine fir', 'Engelmann spruce', 'Bishop pine', 'Subalpine larch', 'Bristlecone fir', 'Bigcone Douglas-fir', 'Douglas-fir']\n"
     ]
    }
   ],
   "source": [
    "EOR_symbols = []\n",
    "EOR_commons = []\n",
    "search_spp = ['pine', 'fir', 'spruce']\n",
    "for symbol in VolumeEq_Dict.keys():\n",
    "    try:\n",
    "        EOR_symbols.append([symbol for spp in search_spp if spp in VolumeEq_Dict[symbol]['common_name']][0])\n",
    "    except IndexError:\n",
    "        pass\n",
    "for symb in EOR_symbols:\n",
    "    EOR_commons.append(VolumeEq_Dict[symb]['common_name'])\n",
    "print(EOR_symbols)\n",
    "print(EOR_commons)"
   ]
  },
  {
   "cell_type": "code",
   "execution_count": 18,
   "metadata": {
    "collapsed": false
   },
   "outputs": [
    {
     "name": "stdout",
     "output_type": "stream",
     "text": [
      "['Lodgepole pine', 'Western white pine', 'Ponderosa pine', 'Red fir', 'Jeffrey pine', 'Engelmann spruce', 'White fir', 'Subalpine fir', 'Pacific silver fir', 'White and Grand fir', 'Washoe pine', 'Grand fir', 'Sugar pine', 'California red fir', 'Shasta red fir', 'Noble fir', 'Noble and Red firs', 'Subalpine larch', 'Douglas-fir']\n",
      "['PICOL', 'PICO', 'PIMO3', 'PIPOS', 'ABMA', 'PIJE', 'PIENM2', 'ABCO', 'ABLAL', 'PIPOP', 'ABAM', 'ABGRC', 'PIPOW2', 'PIWA', 'ABGR', 'PIEN', 'PIPOB2', 'PIPOB3', 'PILA', 'ABMAM', 'ABMAS', 'ABPR', 'ABPRSH', 'PIPO', 'ABLA', 'PIENE', 'LALY', 'PSME']\n"
     ]
    }
   ],
   "source": [
    "EOR_commercials = ['Lodgepole pine', 'Western white pine', 'Ponderosa pine', 'Red fir', 'Jeffrey pine', 'Engelmann spruce', 'White fir', 'Subalpine fir', 'Pacific silver fir', 'White and Grand fir', 'Washoe pine', 'Grand fir', 'Engelmann spruce', 'Ponderosa pine', 'Sugar pine', 'California red fir', 'Shasta red fir', 'Noble fir', 'Noble and Red firs', 'Ponderosa pine', 'Engelmann spruce', 'Subalpine larch', 'Douglas-fir']\n",
    "EOR_commercial_commons = []\n",
    "EOR_commercial_symbols = []\n",
    "for item in EOR_commercials:\n",
    "    if item not in EOR_commercial_commons:\n",
    "        EOR_commercial_commons.append(item)\n",
    "for symbol in VolumeEq_Dict.keys():\n",
    "    if VolumeEq_Dict[symbol]['common_name'] in EOR_commercial_commons:\n",
    "        EOR_commercial_symbols.append(symbol)\n",
    "\n",
    "print(EOR_commercial_commons)\n",
    "print(EOR_commercial_symbols)"
   ]
  },
  {
   "cell_type": "code",
   "execution_count": 38,
   "metadata": {
    "collapsed": false
   },
   "outputs": [
    {
     "name": "stdout",
     "output_type": "stream",
     "text": [
      "['Bigcone Douglas-fir', 'Douglas-fir', 'Red alder', 'Lodgepole pine', 'Sierra lodgepole pine', 'Lodgepole pine', 'Oregon ash', 'Ash', 'Washoe pine', 'Washoe pine', 'Ponderosa pine', 'Ponderosa pine', 'Ponderosa pine', 'Ponderosa pine', 'Ponderosa pine', 'Bigleaf maple', 'Pacific madrone', 'Engelmann oak', 'California black oak', 'Canyon live oak', 'Canyon live oak', 'Blue oak', 'Emory oak', 'California live oak', 'Chinkapin oak', 'Canyon live oak', 'Interior live oak', 'Interior live oak', 'Interior live oak', 'Oregon white oak', 'Oregon white oak', 'Oregon white oak', 'California live oak', 'Oregon white oak', 'California white (valley) oak']\n"
     ]
    }
   ],
   "source": [
    "oaks_symbols = []\n",
    "oaks_commons = []\n",
    "df_symbols = []\n",
    "ra_symbols = []\n",
    "lp_symbols = []\n",
    "pp_symbols = []\n",
    "bm_symbols = []\n",
    "madrone_symbols = []\n",
    "for spp_sym in VolumeEq_Dict.keys():\n",
    "    if ' oak' in VolumeEq_Dict[spp_sym]['common_name'].lower():\n",
    "        oaks_symbols.append(spp_sym)\n",
    "        oaks_commons.append(VolumeEq_Dict[spp_sym]['common_name'])\n",
    "    if 'douglas-fir' in VolumeEq_Dict[spp_sym]['common_name'].lower():\n",
    "        df_symbols.append(spp_sym)\n",
    "    if 'red alder' in VolumeEq_Dict[spp_sym]['common_name'].lower():\n",
    "        ra_symbols.append(spp_sym)\n",
    "    if 'lodgepole pine' in VolumeEq_Dict[spp_sym]['common_name'].lower():\n",
    "        lp_symbols.append(spp_sym)\n",
    "    if 'ponderosa pine' in VolumeEq_Dict[spp_sym]['common_name'].lower():\n",
    "        pp_symbols.append(spp_sym)\n",
    "    if 'madrone' in VolumeEq_Dict[spp_sym]['common_name'].lower():\n",
    "        madrone_symbols.append(spp_sym)\n",
    "    if 'bigleaf maple' in VolumeEq_Dict[spp_sym]['common_name'].lower():\n",
    "        bm_symbols.append(spp_sym)\n",
    "    if 'ash' in VolumeEq_Dict[spp_sym]['common_name'].lower():\n",
    "        lp_symbols.append(spp_sym)\n",
    "        \n",
    "firewood_symbols = df_symbols + ra_symbols + lp_symbols + pp_symbols + bm_symbols + madrone_symbols + oaks_symbols\n",
    "firewood_SW_symbols = df_symbols + lp_symbols + pp_symbols + madrone_symbols\n",
    "firewood_HW_symbols = ra_symbols + bm_symbols + madrone_symbols + oaks_symbols\n",
    "firewood_commons = []\n",
    "for symbol in firewood_symbols:\n",
    "    firewood_commons.append(VolumeEq_Dict[symbol]['common_name'])\n",
    "print(firewood_commons)    "
   ]
  },
  {
   "cell_type": "code",
   "execution_count": 39,
   "metadata": {
    "collapsed": false
   },
   "outputs": [
    {
     "name": "stdout",
     "output_type": "stream",
     "text": [
      "Done.\n"
     ]
    }
   ],
   "source": [
    "EOR_firewood_tons_SW = getproducts(species_list = firewood_SW_symbols, minDBH = 5, maxDBH = 9, region = 'EOR', volume_metric = 'CV4_bio')\n",
    "EOR_firewood_tons_HW = getproducts(species_list = firewood_HW_symbols, minDBH = 5, maxDBH = 11, region = 'EOR', volume_metric = 'CV4_bio')\n",
    "EOR_firewood_tons = EOR_firewood_tons_SW + EOR_firewood_tons_HW\n",
    "print('Done.')"
   ]
  },
  {
   "cell_type": "code",
   "execution_count": 29,
   "metadata": {
    "collapsed": false
   },
   "outputs": [
    {
     "name": "stdout",
     "output_type": "stream",
     "text": [
      "Done.\n"
     ]
    }
   ],
   "source": [
    "EOR_pine_firs_tons = getproducts(species_list = EOR_commercial_symbols, minDBH = 5, maxDBH = 9, region = 'EOR', volume_metric = 'CV4_bio')\n",
    "print('Done.')"
   ]
  },
  {
   "cell_type": "code",
   "execution_count": 26,
   "metadata": {
    "collapsed": false
   },
   "outputs": [
    {
     "name": "stdout",
     "output_type": "stream",
     "text": [
      "Done.\n"
     ]
    }
   ],
   "source": [
    "juniper_CV4_biomass = getproducts(species_list = juniperlist, minDBH = 0, maxDBH = 999, region = 'EOR', volume_metric = 'CV4_bio')\n",
    "print('Done.')"
   ]
  },
  {
   "cell_type": "code",
   "execution_count": 40,
   "metadata": {
    "collapsed": false
   },
   "outputs": [
    {
     "name": "stdout",
     "output_type": "stream",
     "text": [
      "Done.\n"
     ]
    }
   ],
   "source": [
    "EOR_firewood_tons.to_csv('C:\\Users\\ddiaz\\Desktop\\EOR_firewood_tons_ac.csv')\n",
    "print('Done.')"
   ]
  },
  {
   "cell_type": "code",
   "execution_count": 30,
   "metadata": {
    "collapsed": false
   },
   "outputs": [
    {
     "name": "stdout",
     "output_type": "stream",
     "text": [
      "Done.\n"
     ]
    }
   ],
   "source": [
    "EOR_pine_firs_tons.to_csv('C:\\Users\\ddiaz\\Desktop\\EOR_pine_firs_tons_ac.csv')\n",
    "print('Done.')"
   ]
  },
  {
   "cell_type": "code",
   "execution_count": 21,
   "metadata": {
    "collapsed": false
   },
   "outputs": [
    {
     "data": {
      "text/plain": [
       "array([[<matplotlib.axes._subplots.AxesSubplot object at 0x00000000318F8278>]], dtype=object)"
      ]
     },
     "execution_count": 21,
     "metadata": {},
     "output_type": "execute_result"
    },
    {
     "data": {
      "image/png": "[encoded data removed]",
      "text/plain": [
       "<matplotlib.figure.Figure at 0x6dc51400>"
      ]
     },
     "metadata": {},
     "output_type": "display_data"
    }
   ],
   "source": [
    "EOR_pine_firs_BF.hist(bins = 20)"
   ]
  },
  {
   "cell_type": "code",
   "execution_count": 24,
   "metadata": {
    "collapsed": false
   },
   "outputs": [
    {
     "data": {
      "text/plain": [
       "array([[<matplotlib.axes._subplots.AxesSubplot object at 0x000000007D70D1D0>]], dtype=object)"
      ]
     },
     "execution_count": 24,
     "metadata": {},
     "output_type": "execute_result"
    },
    {
     "data": {
      "image/png": "[encoded data removed]",
      "text/plain": [
       "<matplotlib.figure.Figure at 0x77a32a90>"
      ]
     },
     "metadata": {},
     "output_type": "display_data"
    }
   ],
   "source": [
    "EOR_pine_firs_BF.loc[EOR_pine_firs_BF.EOR_BF_ac >0].hist(bins=20)"
   ]
  }
 ],
 "metadata": {
  "kernelspec": {
   "display_name": "Python 2",
   "language": "python",
   "name": "python2"
  },
  "language_info": {
   "codemirror_mode": {
    "name": "ipython",
    "version": 2
   },
   "file_extension": ".py",
   "mimetype": "text/x-python",
   "name": "python",
   "nbconvert_exporter": "python",
   "pygments_lexer": "ipython2",
   "version": "2.7.10"
  }
 },
 "nbformat": 4,
 "nbformat_minor": 0
}
