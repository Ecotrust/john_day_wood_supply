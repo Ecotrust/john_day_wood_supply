{
 "cells": [
  {
   "cell_type": "code",
   "execution_count": 1,
   "metadata": {
    "collapsed": true
   },
   "outputs": [],
   "source": [
    "# This script reads in the list of forest inventory plots from the OSU GNN dataset\n",
    "# We want to summarize each Forest Condition ID into 2\" diameter classes and species\n",
    "# We will query this summary DataFrame to calculate the volume (board-foot, cubic foot, and tonnage)\n",
    "# of potential wood products on-site given a diameter range and list of species provided by the user"
   ]
  },
  {
   "cell_type": "code",
   "execution_count": 2,
   "metadata": {
    "collapsed": false
   },
   "outputs": [],
   "source": [
    "# load the packages\n",
    "import pandas as pd\n",
    "import numpy as np\n",
    "%matplotlib inline\n",
    "import matplotlib\n",
    "from matplotlib import pyplot as plt\n",
    "import math\n",
    "from ARBCARVolumeEquations import *"
   ]
  },
  {
   "cell_type": "code",
   "execution_count": 3,
   "metadata": {
    "collapsed": false
   },
   "outputs": [],
   "source": [
    "workdir = 'C:\\Users\\ddiaz\\Desktop'"
   ]
  },
  {
   "cell_type": "code",
   "execution_count": null,
   "metadata": {
    "collapsed": true
   },
   "outputs": [],
   "source": [
    "CSV = 'GNN_TREE_LIVE.csv'\n",
    "gnn_tree_live = pd.read_csv(workdir+'\\\\'+CSV, sep = ',', quotechar = '\"', index_col = 'FCID')\n",
    "print('Done.')\n",
    "print(str(len(gnn_tree_live)) + \" live trees loaded.\")\n",
    "print(str(len(pd.unique(gnn_tree_live.index))) + \" FCIDs loaded.\")"
   ]
  },
  {
   "cell_type": "code",
   "execution_count": null,
   "metadata": {
    "collapsed": false
   },
   "outputs": [],
   "source": [
    "# load the FIA cross reference for wood specific gravity by species\n",
    "CSV = 'PNWFIADB_REF_SPECIES.csv'\n",
    "FIA_gravs = pd.read_csv(workdir+'\\\\'+CSV, sep = ',', quotechar = '\"', index_col = 'SPECIES_SYMBOL')\n",
    "\n",
    "# convert FIA_gravs lookup table to a dictionary\n",
    "FIA_gravs_dict = FIA_gravs.to_dict(orient = 'index')\n",
    "print('Done.')"
   ]
  },
  {
   "cell_type": "code",
   "execution_count": null,
   "metadata": {
    "collapsed": true
   },
   "outputs": [],
   "source": [
    "# # identify the 2\" diameter class for each tree\n",
    "# # takes in a tree DBH and returns the min-max range for 2\" diameter class for each tree\n",
    "# # GNN has diameter in cm, so convert to inches by /2.54\n",
    "\n",
    "# def minDBH(dbh):\n",
    "#     return int(np.floor(dbh/2.54/2)*2)\n",
    "\n",
    "# def maxDBH(dbh):\n",
    "#     # if a tree has an even DBH (e.g., 2.0), don't let maxDBH = minDBH...\n",
    "#     if np.ceil(dbh/2)*2 == np.floor(dbh/2.54/2)*2:\n",
    "#         return int(np.ceil(dbh/2.54/2)*2 +2)\n",
    "#     else:\n",
    "#         return int(np.ceil(dbh/2.54/2)*2)"
   ]
  },
  {
   "cell_type": "code",
   "execution_count": null,
   "metadata": {
    "collapsed": false
   },
   "outputs": [],
   "source": [
    "# # calculate the min and max DBHs for all the trees\n",
    "# gnn_tree_live[\"minDBH_in\"] = gnn_tree_live.DBH_CM.apply(minDBH)\n",
    "# gnn_tree_live[\"maxDBH_in\"] = gnn_tree_live.DBH_CM.apply(maxDBH)"
   ]
  },
  {
   "cell_type": "code",
   "execution_count": null,
   "metadata": {
    "collapsed": false
   },
   "outputs": [],
   "source": [
    "def calc_vols(row, region):\n",
    "    \"\"\"\n",
    "    This function is applied to rows (individual trees) to calculate sawlog_cubic volume and boardfoot volumes.\n",
    "    It looks up the appropriate volume equation for that tree species in a particular region from the VolumeEq_Dict\n",
    "    and then calculates the requested volume metric.\n",
    "    region: 'WOR', 'EOR', 'WWA', 'EWA', or 'CA'\n",
    "    metric: 'sawlog_cubic', 'boardfoot_16ft', or 'boardfoot_32ft' (other specific metrics may be used, they are identified in ARBCARVolume Equations.py)\n",
    "    \"\"\"\n",
    "    # enforce diameter specifications\n",
    "    if row.DBH_CM/2.54 < 1:  \n",
    "        CVTS = 0 # cubic volume of total stem, ground to tip, for DBH >= 1\"\n",
    "        CVT = 0 # cubic volume from 1-foot stump to tip, for DBH >= 1\"\n",
    "    else:\n",
    "        CVTS = VolumeEq_Dict[row.SPP_SYMBOL][region](row.DBH_CM/2.54,row.HT_M/0.3048, 'CVTS')\n",
    "        CVT = VolumeEq_Dict[row.SPP_SYMBOL][region](row.DBH_CM/2.54,row.HT_M/0.3048, 'CVT')\n",
    "    \n",
    "    if row.DBH_CM/2.54 < 5:\n",
    "        CV4 = 0 # cubic volume from 1-foot stump to 4\" top, for DBH >= 5\"\n",
    "    else:\n",
    "        CV4 = VolumeEq_Dict[row.SPP_SYMBOL][region](row.DBH_CM/2.54,row.HT_M/0.3048, 'CV4')\n",
    "    \n",
    "    # lookup whether the tree is hardwood or softwood\n",
    "    type = VolumeEq_Dict[row.SPP_SYMBOL]['type']\n",
    "    \n",
    "    # enforce softwood diameter limits\n",
    "    if type == 'SW' and row.DBH_CM/2.54 < 9:\n",
    "        CV_sawlog = 0 # sawlog cubic volume for softwoods, 1-foot stump to 6\" top, for DBH >= 9\"\n",
    "        BF = 0 # Scribner boardfoot volume for softwoods, in 16- or 32-foot log lengths from 1-foot stump to a 6\" top, for DBH >= 9\"\n",
    "    elif type == 'SW' and row.DBH_CM/2.54 >= 9 and region in ['EOR', 'EWA', 'CA']: # 16-foot logs for these regions\n",
    "        CV_sawlog = VolumeEq_Dict[row.SPP_SYMBOL][region](row.DBH_CM/2.54,row.HT_M/0.3048, 'CV6')\n",
    "        BF = VolumeEq_Dict[row.SPP_SYMBOL][region](row.DBH_CM/2.54,row.HT_M/0.3048, 'SV616')\n",
    "    elif type == 'SW' and row.DBH_CM/2.54 >= 9 and region in ['WOR', 'WWA']: # 32-foot logs for these regions\n",
    "        CV_sawlog = VolumeEq_Dict[row.SPP_SYMBOL][region](row.DBH_CM/2.54,row.HT_M/0.3048, 'CV6')\n",
    "        BF = VolumeEq_Dict[row.SPP_SYMBOL][region](row.DBH_CM/2.54,row.HT_M/0.3048, 'SV632')\n",
    "        \n",
    "    # enforce hardwood diameter limits\n",
    "    if type == 'HW' and row.DBH_CM/2.54 < 11:\n",
    "        CV_sawlog = 0 # sawlog cubic volume for hardwoods, 1-foot stump to 8\" top, for DBH >= 11\"\n",
    "        BF = 0 # Scribner boardfoot volume for hardwoods, in 16-foot log lengths from 1-foot stump to a 8\" top, for DBH >= 9\"\n",
    "    elif type == 'HW' and row.DBH_CM/2.54 >= 11:\n",
    "        CV_sawlog = VolumeEq_Dict[row.SPP_SYMBOL][region](row.DBH_CM/2.54,row.HT_M/0.3048, 'CV8')\n",
    "        BF = VolumeEq_Dict[row.SPP_SYMBOL][region](row.DBH_CM/2.54,row.HT_M/0.3048, 'SV816')\n",
    "    \n",
    "    # report out how far along we are\n",
    "    if calc_vols.i % 50000 == 0:\n",
    "        print('{:,}'.format(calc_vols.i)+\"...\"),\n",
    "    \n",
    "    # return all the results\n",
    "    return CVTS, CVT, CV4, CV_sawlog, BF    "
   ]
  },
  {
   "cell_type": "code",
   "execution_count": null,
   "metadata": {
    "collapsed": false
   },
   "outputs": [],
   "source": [
    "# calculate cubic and boardfoot volumes for each row, add new columns\n",
    "for region in ['WOR', 'WWA', 'EOR', 'EWA', 'CA']:\n",
    "    calc_vols.i = 0 # reset the counter inside calc_vols\n",
    "    gnn_tree_live[region+'_CVTS_ft3'], gnn_tree_live[region+'_CVT_ft3'], gnn_tree_live[region+'_CV4_ft3'], \\\n",
    "    gnn_tree_live[region+'_CV_sawlog_ft3'], gnn_tree_live[region+'_BF'] = \\\n",
    "    zip(*gnn_tree_live[['SPP_SYMBOL', 'DBH_CM', 'HT_M']].apply(lambda x: calc_vols(x, region), axis = 1))\n",
    "    print('Done with ' + region +'.')"
   ]
  },
  {
   "cell_type": "code",
   "execution_count": null,
   "metadata": {
    "collapsed": false
   },
   "outputs": [],
   "source": [
    "# Convert volume metrics to an area basis\n",
    "# 1 hectare = 2.47105381613712 acres\n",
    "for region in ['WOR', 'WWA', 'EOR', 'EWA', 'CA']:\n",
    "    for metric in ['CVT_ft3', 'CVTS_ft3', 'CV4_ft3', 'CV_sawlog_ft3', 'BF']:\n",
    "        gnn_tree_live_vols[region + \"_\" + metric + \"_ac\"] = (gnn_tree_live_vols.TPH_FC * gnn_tree_live_vols[region + \"_\" + metric] / 2.47105381613712)\n",
    "\n",
    "print('Done.')"
   ]
  },
  {
   "cell_type": "code",
   "execution_count": null,
   "metadata": {
    "collapsed": false
   },
   "outputs": [],
   "source": [
    "gnn_tree_live.to_csv('C:\\Users\\ddiaz\\Desktop\\GNN_TREE_LIVE_vols_ac.csv')\n",
    "print('Done.')"
   ]
  },
  {
   "cell_type": "code",
   "execution_count": 5,
   "metadata": {
    "collapsed": false
   },
   "outputs": [
    {
     "name": "stdout",
     "output_type": "stream",
     "text": [
      "Done.\n",
      "2651138 live trees loaded.\n",
      "53704 FCIDs loaded.\n"
     ]
    }
   ],
   "source": [
    "CSV = 'GNN_TREE_LIVE_vols_ac.csv'\n",
    "gnn_tree_live_vols_ac = pd.read_csv(workdir+'\\\\'+CSV, sep = ',', quotechar = '\"', index_col = 'FCID')\n",
    "print('Done.')\n",
    "print(str(len(gnn_tree_live_vols_ac)) + \" live trees loaded.\")\n",
    "print(str(len(pd.unique(gnn_tree_live_vols_ac.index))) + \" FCIDs loaded.\")"
   ]
  },
  {
   "cell_type": "code",
   "execution_count": null,
   "metadata": {
    "collapsed": false,
    "scrolled": true
   },
   "outputs": [],
   "source": [
    "gnn_tree_live_vols_ac.dtypes"
   ]
  },
  {
   "cell_type": "code",
   "execution_count": null,
   "metadata": {
    "collapsed": false
   },
   "outputs": [],
   "source": [
    "def get_biomass(spp_symbol, dbh_in, cull_cubic, bio_metric):\n",
    "    \"\"\"\n",
    "    Calculates several biomass metrics (in lbs) using Jenkins equations provided by FIA program\n",
    "    Can return total above-ground biomass (AG_biomass), gross green stem biomass to 4\" top (stem_green_bio_gross),\n",
    "    net green stem biomass to 4\" top adjusted for cull (stem_green_bio_net),\n",
    "    or bone-dry stem biomass to 4\" top (stem_bonedry_bio).\n",
    "    Looks up the appropriate coefficients for Jenkins equations from FIA crosswalk using NRCS PLANTS symbol for a species.\n",
    "    Calculates biomass from dbh (provided in inches) and adjusts for cull_cubic (integer from 0-100) recorded in GNN \n",
    "    \"\"\"\n",
    "    if bio_metric not in ['AG_biomass', 'stem_green_bio_gross', 'stem_green_bio_net', 'stem_bonedry_bio']:\n",
    "        raise ValueError(\"bio_metric must be one of 'AG_biomass', 'stem_green_bio_gross', 'stem_green_bio_net', or 'stem_bonedry_bio'.\")\n",
    "        \n",
    "    # calculate total aboveground biomass (green weight) using Jenkins parameters in FIA crosswalk\n",
    "    # lookup jenkins_total coefficients\n",
    "    jenk_total_B1, jenk_total_B2 = None, None\n",
    "    jenk_total_B1, jenk_total_B2 = FIA_gravs_dict[spp_symbol]['JENKINS_TOTAL_B1'], FIA_gravs_dict[spp_symbol]['JENKINS_TOTAL_B2']\n",
    "    # = exp(JENKINS_TOTAL_B1 + JENKINS_TOTAL_B2 * ln(DIA*2.54) ) * 2.2046\n",
    "    AG_biomass = math.exp(jenk_total_B1 + jenk_total_B2 * math.log(dbh_in*2.54)) * 2.2046 # remember that math.log is natural log\n",
    "\n",
    "    # then calculate stem ratio using parameters in FIA crosswalk\n",
    "    jenk_stemwoodratio_B1, jenk_stemwoodratio_B2 = None, None\n",
    "    jenk_stemwoodratio_B1, jenk_stemwoodratio_B2 = FIA_gravs_dict[spp_symbol]['JENKINS_STEM_WOOD_RATIO_B1'], FIA_gravs_dict[spp_symbol]['JENKINS_STEM_WOOD_RATIO_B2']\n",
    "    # = exp(JENKINS_STEM_WOOD_RATIO_B1 + JENKINS_STEM_WOOD_RATIO_B2 / (DIA*2.54) )\n",
    "    stem_ratio = math.exp(jenk_stemwoodratio_B1 + jenk_stemwoodratio_B2 / (dbh_in*2.54))\n",
    "    # then calculate stem biomass using total AG biomass and stem ratio\n",
    "    # = total_AG_biomass_Jenkins * stem_ratio\n",
    "    stem_green_bio_gross = AG_biomass * stem_ratio\n",
    "    # then adjust for cull\n",
    "    # = VOLUME * (1-CULL_CUBIC/100.0)\n",
    "    stem_green_bio_net = stem_green_bio_gross * (1 - cull_cubic/100.0)\n",
    "\n",
    "    # then calculate bone-dry weight\n",
    "    # lookup specific gravity of green volume\n",
    "    wood_spgr = None\n",
    "    wood_spgr = FIA_gravs_dict[spp_symbol]['WOOD_SPGR_GREENVOL_DRYWT']\n",
    "    # = (soundVOLUME * (WOOD_SPGR_GREENVOL_DRYWT * 62.4) )\n",
    "    stem_bonedry_bio = stem_green_bio_net * wood_spgr * 62.4\n",
    "    \n",
    "    # report out how far along we are\n",
    "    get_biomass.i += 1\n",
    "    if get_biomass.i % 50000 == 0:\n",
    "        print('{:,}'.format(get_biomass.i)+\"... \"),\n",
    "    \n",
    "    # return the requested biomass metric\n",
    "    return eval(bio_metric)"
   ]
  },
  {
   "cell_type": "code",
   "execution_count": null,
   "metadata": {
    "collapsed": false
   },
   "outputs": [],
   "source": [
    "get_biomass.i = 0\n",
    "gnn_tree_live_vols_ac['CV4_bio_tons'] = gnn_tree_live_vols_ac[['SPP_SYMBOL', 'DBH_CM', 'CULL_CUBIC']].apply(lambda row: get_biomass(row.SPP_SYMBOL, row.DBH_CM/2.54, row.CULL_CUBIC, 'stem_bonedry_bio')/2000, axis = 1)\n",
    "print('Done.')"
   ]
  },
  {
   "cell_type": "code",
   "execution_count": null,
   "metadata": {
    "collapsed": false
   },
   "outputs": [],
   "source": [
    "# calculate biomass tonnage per acre\n",
    "gnn_tree_live_vols_ac['CV4_bio_tons_ac'] = gnn_tree_live_vols_ac['CV4_bio_tons'] * gnn_tree_live_vols_ac['TPH_FC'] / 2.47105381613712"
   ]
  },
  {
   "cell_type": "code",
   "execution_count": 9,
   "metadata": {
    "collapsed": false
   },
   "outputs": [
    {
     "name": "stdout",
     "output_type": "stream",
     "text": [
      "Done.\n"
     ]
    }
   ],
   "source": [
    "# Update the lookup table with new columns that have been added\n",
    "gnn_tree_live_vols_ac.to_csv('C:\\Users\\ddiaz\\Desktop\\GNN_TREE_LIVE_vols_ac.csv')\n",
    "print('Done.')"
   ]
  }
 ],
 "metadata": {
  "kernelspec": {
   "display_name": "Python 2",
   "language": "python",
   "name": "python2"
  },
  "language_info": {
   "codemirror_mode": {
    "name": "ipython",
    "version": 2
   },
   "file_extension": ".py",
   "mimetype": "text/x-python",
   "name": "python",
   "nbconvert_exporter": "python",
   "pygments_lexer": "ipython2",
   "version": "2.7.10"
  }
 },
 "nbformat": 4,
 "nbformat_minor": 0
}
